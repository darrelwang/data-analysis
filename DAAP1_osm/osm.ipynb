{
 "cells": [
  {
   "cell_type": "code",
   "execution_count": 1,
   "metadata": {
    "collapsed": true
   },
   "outputs": [],
   "source": [
    "#!/usr/bin/env python\n",
    "# -*- coding: utf-8 -*-"
   ]
  },
  {
   "cell_type": "code",
   "execution_count": 18,
   "metadata": {
    "collapsed": true
   },
   "outputs": [],
   "source": [
    "import lxml.etree as ET\n",
    "from collections import defaultdict\n",
    "import matplotlib.pyplot as plt\n",
    "%matplotlib inline\n",
    "import pprint\n",
    "import re\n",
    "import codecs\n",
    "import json"
   ]
  },
  {
   "cell_type": "code",
   "execution_count": 16,
   "metadata": {
    "collapsed": true
   },
   "outputs": [],
   "source": [
    "filename=\"map.osm\""
   ]
  },
  {
   "cell_type": "code",
   "execution_count": 20,
   "metadata": {
    "collapsed": true
   },
   "outputs": [],
   "source": [
    "import re\n",
    "from collections import defaultdict\n",
    "\n",
    "expected = [\"Street\", \"Avenue\", \"Boulevard\", \"Drive\", \"Court\", \"Place\", \"Square\", \"Lane\", \"Road\", \n",
    "            \"Trail\", \"Parkway\", \"Commons\", 'Alley', 'Blvd', 'Bowery', 'Americas', 'Bushwick', 'East',\n",
    "            'South','West', 'North', 'Park', 'Plaza','Broadway', 'Center', 'Floor', 'Highline', 'Level',\n",
    "            'Loop', 'Unidos', 'Village', 'Way', 'Yards', 'Track', 'Terrace', 'A', 'B', 'C', 'USA', 'NY', 'Mews', 'Macdougal', 'Oval', '1',\n",
    "           '10003', '1801', '1807', '27th', '29th', 'S', '42nd']\n",
    "\n",
    "street_type_re = re.compile(r'\\b\\S+\\.?$', re.IGNORECASE)\n",
    "\n",
    "\n",
    "def audit_street_type(street_types, street_name):\n",
    "    m = street_type_re.search(street_name)\n",
    "    if m:\n",
    "        street_type = m.group()\n",
    "        if street_type not in expected:\n",
    "            street_types[street_type].add(street_name)\n",
    "\n",
    "\n",
    "def is_street_name(elem):\n",
    "    return (elem.attrib['k'] == \"addr:street\")\n",
    "\n",
    "def audit(osmfile):\n",
    "    osm_file = open(osmfile, \"r\")\n",
    "    street_types = defaultdict(set)\n",
    "\n",
    "    for event, el in ET.iterparse(filename, tag=['node', 'way']):\n",
    "        if el.tag ==  'node': \n",
    "            for tag in el.iter('tag'):\n",
    "                if is_street_name(tag):\n",
    "                    audit_street_type(street_types, tag.attrib['v'])\n",
    "    osm_file.close()                \n",
    "    return street_types"
   ]
  },
  {
   "cell_type": "code",
   "execution_count": 21,
   "metadata": {
    "collapsed": true
   },
   "outputs": [],
   "source": [
    "def test():\n",
    "    street_types = audit(filename)\n",
    "    pprint.pprint(dict(street_types))"
   ]
  },
  {
   "cell_type": "code",
   "execution_count": 22,
   "metadata": {},
   "outputs": [
    {
     "name": "stdout",
     "output_type": "stream",
     "text": [
      "{'1B': set(['East 64th Street, #1B']),\n",
      " '205': set(['Broadway #205']),\n",
      " '2E': set(['10th Ave #2E']),\n",
      " '2N': set(['400th West 20th St., Suite 2N']),\n",
      " '3': set(['Irving Place #3']),\n",
      " '301': set(['E 55th St Ste. 301']),\n",
      " '306': set(['West 30th Street Suite 306']),\n",
      " '400': set(['East 25th Street Ste 400']),\n",
      " '403': set(['East 25th Street  #403']),\n",
      " '407': set(['Madison Ave #407']),\n",
      " '605': set(['West 57th Street #605']),\n",
      " '800a': set(['W 36th St #800a']),\n",
      " '900': set(['West 27th Street #900']),\n",
      " 'Ave': set(['Third Ave']),\n",
      " 'Avene': set(['8th Avene']),\n",
      " 'Broadway.': set(['Broadway.']),\n",
      " 'M1': set(['7th Ave #M1']),\n",
      " 'M204': set(['3rd Ave #M204']),\n",
      " 'St': set(['56th St', 'E 43rd St', 'Hudson St', 'W 26th St', 'West 32nd St']),\n",
      " 'St.': set(['13th St.', 'E. 54th St.', 'West 44th St.']),\n",
      " 'Steet': set(['West 25th Steet', 'West 8th Steet']),\n",
      " 'ave': set(['110 West 51st at 6 ave', '5th ave']),\n",
      " 'avenue': set(['seventh avenue']),\n",
      " 'st': set(['W 35th st']),\n",
      " 'street': set(['E 45th street',\n",
      "                'Lafayette street',\n",
      "                'W. 44th street',\n",
      "                'West 51st street'])}\n"
     ]
    }
   ],
   "source": [
    "if __name__ == '__main__':\n",
    "    test()"
   ]
  },
  {
   "cell_type": "code",
   "execution_count": 38,
   "metadata": {
    "collapsed": true
   },
   "outputs": [],
   "source": [
    "mapping = {\"1B\":\"#1B\",\n",
    "           \"205\":\"#205\",\n",
    "           \"2E\":\"#2E\",\n",
    "           \"2N\":\"#2N\",\n",
    "           \"3\":\"#3\",\n",
    "           \"301\":\"#301\",\n",
    "           \"306\":\"#306\",\n",
    "           \"400\":\"#400\",\n",
    "           \"403\":\"#407\",\n",
    "           \"605\":\"#605\",\n",
    "           \"800a\":\"#800a\",\n",
    "           \"900\":\"#900\",\n",
    "           'Ave':'Avenue',\n",
    "           'Avene':'Avenue',\n",
    "           \"Broadway.\":\"Broadway\",\n",
    "           \"M1\":\"#M1\",\n",
    "           \"M204\":\"#M204\",\n",
    "           \"St\":\"Street\",\n",
    "           \"St.\":\"Street\",\n",
    "           \"Steet\":\"Street\",\n",
    "           \"ave\":\"Avenue\",\n",
    "           \"avenue\":\"Avenue\",\n",
    "           \"st\":\"Street\",\n",
    "           \"street\":\"Street\"}"
   ]
  },
  {
   "cell_type": "code",
   "execution_count": 36,
   "metadata": {
    "collapsed": true
   },
   "outputs": [],
   "source": [
    "#对错误值使用mapping进行替换\n",
    "def update_value(value, mapping):\n",
    "    if value in mapping:\n",
    "        value=mapping[value]\n",
    "    else:\n",
    "        last=value.split()[-1]\n",
    "        if  last in mapping:\n",
    "            value=value.replace(last,mapping[last])\n",
    "    return value"
   ]
  },
  {
   "cell_type": "code",
   "execution_count": 6,
   "metadata": {
    "collapsed": true
   },
   "outputs": [],
   "source": [
    "import csv\n",
    "import cerberus\n",
    "import schema_test"
   ]
  },
  {
   "cell_type": "code",
   "execution_count": 7,
   "metadata": {
    "collapsed": true
   },
   "outputs": [],
   "source": [
    "NODES_PATH = r\"C:\\Users\\wz\\nodes.csv\"\n",
    "NODE_TAGS_PATH = r\"C:\\Users\\wz\\nodes_tags.csv\"\n",
    "WAYS_PATH = r\"C:\\Users\\wz\\ways.csv\"\n",
    "WAY_NODES_PATH = r\"C:\\Users\\wz\\ways_nodes.csv\"\n",
    "WAY_TAGS_PATH = r\"C:\\Users\\wz\\ways_tags.csv\""
   ]
  },
  {
   "cell_type": "code",
   "execution_count": 8,
   "metadata": {
    "collapsed": true
   },
   "outputs": [],
   "source": [
    "NODE_FIELDS = ['id', 'lat', 'lon', 'user', 'uid', 'version', 'changeset', 'timestamp']\n",
    "NODE_TAGS_FIELDS = ['id', 'key', 'value', 'type']\n",
    "WAY_FIELDS = ['id', 'user', 'uid', 'version', 'changeset', 'timestamp']\n",
    "WAY_TAGS_FIELDS = ['id', 'key', 'value', 'type']\n",
    "WAY_NODES_FIELDS = ['id', 'node_id', 'position']"
   ]
  },
  {
   "cell_type": "code",
   "execution_count": 9,
   "metadata": {
    "collapsed": true
   },
   "outputs": [],
   "source": [
    "PROBLEMCHARS = re.compile(r'[=\\+/&<>;\\'\"\\?%#$@\\,\\. \\t\\r\\n]')\n",
    "SCHEMA = schema_test.schema"
   ]
  },
  {
   "cell_type": "code",
   "execution_count": 30,
   "metadata": {
    "collapsed": true
   },
   "outputs": [],
   "source": [
    "def shape_element(element, node_attr_fields=NODE_FIELDS, way_attr_fields=WAY_FIELDS,\n",
    "                  problem_chars=PROBLEMCHARS, default_tag_type='regular'):\n",
    "    \"\"\"Clean and shape node or way XML element to Python dict\"\"\"\n",
    "    \n",
    "    node_attribs = {}\n",
    "    way_attribs = {}\n",
    "    way_nodes = []\n",
    "    tags = []\n",
    "    # 获取node_attribs中的tag值\n",
    "    if element.tag == 'node':\n",
    "        for field in node_attr_fields:\n",
    "            if field=='id' or field=='uid' or field=='changeset':\n",
    "                node_attribs[field]=int(element.attrib[field])\n",
    "            elif field=='lat' or field=='lon':\n",
    "                node_attribs[field]=float(element.attrib[field])\n",
    "            else:\n",
    "                node_attribs[field]=element.attrib[field]\n",
    "        #获取node嵌套文档的值        \n",
    "        for elem in element.findall('tag'):\n",
    "            tags_record={}\n",
    "            if elem is not None:\n",
    "                if problem_chars.search(elem.attrib['k']):\n",
    "                    pass\n",
    "                else:\n",
    "                    tags_record['id']=node_attribs['id']\n",
    "                    if is_street_name(elem):\n",
    "                        tags_record['value']=update_value(elem.attrib['v'],mapping)\n",
    "                    else:\n",
    "                        tags_record['value']=elem.attrib['v']\n",
    "                    if ':' in elem.attrib['k']:\n",
    "                        n=elem.attrib['k'].find(':')\n",
    "                        tags_record['key']=elem.attrib['k'][n+1:]\n",
    "                        tags_record['type']=elem.attrib['k'][0:n]\n",
    "                    else:\n",
    "                        tags_record['key']=elem.attrib['k']\n",
    "                        tags_record['type']=default_tag_type\n",
    "                    tags.append(tags_record)\n",
    "        return {'node': node_attribs, 'node_tags': tags}\n",
    "    \n",
    "    elif element.tag == 'way':\n",
    "        #获取way_attribs中的tag值\n",
    "        for field in way_attr_fields:\n",
    "            if field=='id' or field=='uid' or field=='changeset':\n",
    "                way_attribs[field]=int(element.attrib[field])\n",
    "            else:\n",
    "                way_attribs[field]=element.attrib[field]\n",
    "        #获取way嵌套文档的值        \n",
    "        for elem in element.findall('tag'):\n",
    "            tags_record={}\n",
    "            if elem is not None:\n",
    "                if problem_chars.search(elem.attrib['k']):\n",
    "                    pass\n",
    "                else:\n",
    "                    tags_record['id']=way_attribs['id']\n",
    "                    if is_street_name(elem):\n",
    "                        tags_record['value']=update_value(elem.attrib['v'],mapping)\n",
    "                    else:\n",
    "                        tags_record['value']=elem.attrib['v']\n",
    "                    if ':' in elem.attrib['k']:\n",
    "                        n=elem.attrib['k'].find(':')\n",
    "                        tags_record['key']=elem.attrib['k'][n+1:]\n",
    "                        tags_record['type']=elem.attrib['k'][0:n]\n",
    "                    else:\n",
    "                        tags_record['key']=elem.attrib['k']\n",
    "                        tags_record['type']=default_tag_type\n",
    "                    tags.append(tags_record)\n",
    "        #获取way嵌套文档的node值\n",
    "        count=0\n",
    "        for elem in element.findall('nd'):\n",
    "            node_record={}\n",
    "            node_record['id']=way_attribs['id']\n",
    "            node_record['node_id']=elem.attrib['ref']\n",
    "            node_record['position']=count\n",
    "            way_nodes.append(node_record)\n",
    "            count +=1\n",
    "        return {'way': way_attribs, 'way_nodes': way_nodes, 'way_tags': tags}"
   ]
  },
  {
   "cell_type": "code",
   "execution_count": 31,
   "metadata": {
    "collapsed": true
   },
   "outputs": [],
   "source": [
    "def get_element(osm_file, tags=('node', 'way', 'relation')):\n",
    "    \"\"\"Yield element if it is the right type of tag\"\"\"\n",
    "\n",
    "    context = ET.iterparse(osm_file, events=('start', 'end'))\n",
    "    _, root = next(context)\n",
    "    for event, elem in context:\n",
    "        if event == 'end' and elem.tag in tags:\n",
    "            yield elem\n",
    "            root.clear()"
   ]
  },
  {
   "cell_type": "code",
   "execution_count": 32,
   "metadata": {
    "collapsed": true
   },
   "outputs": [],
   "source": [
    "def validate_element(element, validator, schema=SCHEMA):\n",
    "    \"\"\"Raise ValidationError if element does not match schema\"\"\"\n",
    "    if validator.validate(element, schema) is not True:\n",
    "        field, errors = next(validator.errors.iteritems())\n",
    "        message_string = \"\\nElement of type '{0}' has the following errors:\\n{1}\"\n",
    "        error_string = pprint.pformat(errors)\n",
    "        \n",
    "        raise Exception(message_string.format(field, error_string))"
   ]
  },
  {
   "cell_type": "code",
   "execution_count": 33,
   "metadata": {
    "collapsed": true
   },
   "outputs": [],
   "source": [
    "class UnicodeDictWriter(csv.DictWriter, object):\n",
    "    \"\"\"Extend csv.DictWriter to handle Unicode input\"\"\"\n",
    "\n",
    "    def writerow(self, row):\n",
    "        super(UnicodeDictWriter, self).writerow({\n",
    "            k: (v.encode('utf-8') if isinstance(v, unicode) else v) for k, v in row.iteritems()\n",
    "        })\n",
    "\n",
    "    def writerows(self, rows):\n",
    "        for row in rows:\n",
    "            self.writerow(row)"
   ]
  },
  {
   "cell_type": "code",
   "execution_count": 34,
   "metadata": {
    "collapsed": true
   },
   "outputs": [],
   "source": [
    "def process_map(file_in, validate):\n",
    "    \"\"\"Iteratively process each XML element and write to csv(s)\"\"\"\n",
    "\n",
    "    with codecs.open(NODES_PATH, 'w') as nodes_file, \\\n",
    "         codecs.open(NODE_TAGS_PATH, 'w') as nodes_tags_file, \\\n",
    "         codecs.open(WAYS_PATH, 'w') as ways_file, \\\n",
    "         codecs.open(WAY_NODES_PATH, 'w') as way_nodes_file, \\\n",
    "         codecs.open(WAY_TAGS_PATH, 'w') as way_tags_file:\n",
    "\n",
    "        nodes_writer = UnicodeDictWriter(nodes_file, NODE_FIELDS)\n",
    "        node_tags_writer = UnicodeDictWriter(nodes_tags_file, NODE_TAGS_FIELDS)\n",
    "        ways_writer = UnicodeDictWriter(ways_file, WAY_FIELDS)\n",
    "        way_nodes_writer = UnicodeDictWriter(way_nodes_file, WAY_NODES_FIELDS)\n",
    "        way_tags_writer = UnicodeDictWriter(way_tags_file, WAY_TAGS_FIELDS)\n",
    "\n",
    "        nodes_writer.writeheader()\n",
    "        node_tags_writer.writeheader()\n",
    "        ways_writer.writeheader()\n",
    "        way_nodes_writer.writeheader()\n",
    "        way_tags_writer.writeheader()\n",
    "\n",
    "        validator = cerberus.Validator()\n",
    "\n",
    "        for element in get_element(file_in, tags=('node', 'way')):\n",
    "            el = shape_element(element)\n",
    "            if el:\n",
    "                if validate is True:\n",
    "                    validate_element(el, validator)\n",
    "\n",
    "                if element.tag == 'node':\n",
    "                    nodes_writer.writerow(el['node'])\n",
    "                    node_tags_writer.writerows(el['node_tags'])\n",
    "                elif element.tag == 'way':\n",
    "                    ways_writer.writerow(el['way'])\n",
    "                    way_nodes_writer.writerows(el['way_nodes'])\n",
    "                    way_tags_writer.writerows(el['way_tags'])"
   ]
  },
  {
   "cell_type": "code",
   "execution_count": 39,
   "metadata": {
    "collapsed": true
   },
   "outputs": [],
   "source": [
    "if __name__ == '__main__':\n",
    "    process_map(filename, validate=True)"
   ]
  }
 ],
 "metadata": {
  "kernelspec": {
   "display_name": "Python 3",
   "language": "python",
   "name": "python3"
  },
  "language_info": {
   "codemirror_mode": {
    "name": "ipython",
    "version": 3
   },
   "file_extension": ".py",
   "mimetype": "text/x-python",
   "name": "python",
   "nbconvert_exporter": "python",
   "pygments_lexer": "ipython3",
   "version": "3.6.1"
  }
 },
 "nbformat": 4,
 "nbformat_minor": 2
}
